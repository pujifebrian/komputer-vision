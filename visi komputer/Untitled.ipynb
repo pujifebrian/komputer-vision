{
 "cells": [
  {
   "cell_type": "code",
   "execution_count": 8,
   "id": "27610024",
   "metadata": {},
   "outputs": [],
   "source": [
    "import cv2\n",
    "import numpy as np\n",
    "import matplotlib.pyplot as plt"
   ]
  },
  {
   "cell_type": "code",
   "execution_count": null,
   "id": "5bec43a9",
   "metadata": {},
   "outputs": [],
   "source": [
    "#Memasukkan data\n",
    "img = cv2.imread('data1.jpg')\n",
    "\n",
    "#Convert RGB to HSV\n",
    "hsv = cv2.cvtColor(img, cv2.COLOR_BGR2HSV)\n",
    "\n",
    "#Deteksi warna merah pada gambar\n",
    "lower_range = np.array([50,50,50])\n",
    "upper_range = np.array([130,255,255])\n",
    "mask = cv2.inRange(hsv,lower_range,upper_range)\n",
    "\n",
    "cv2.imshow('mask', mask)\n",
    "cv2.imshow('image', img)\n",
    "while (1):\n",
    "    k = cv2.waitKey(0)\n",
    "    if (k == 27):\n",
    "        break\n",
    "cv2.waitKey(0)\n",
    "cv2.destroyAllWindows()"
   ]
  },
  {
   "cell_type": "code",
   "execution_count": null,
   "id": "8233f847",
   "metadata": {},
   "outputs": [],
   "source": []
  }
 ],
 "metadata": {
  "kernelspec": {
   "display_name": "Python 3 (ipykernel)",
   "language": "python",
   "name": "python3"
  },
  "language_info": {
   "codemirror_mode": {
    "name": "ipython",
    "version": 3
   },
   "file_extension": ".py",
   "mimetype": "text/x-python",
   "name": "python",
   "nbconvert_exporter": "python",
   "pygments_lexer": "ipython3",
   "version": "3.8.8"
  }
 },
 "nbformat": 4,
 "nbformat_minor": 5
}
